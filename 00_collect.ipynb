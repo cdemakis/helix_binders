{
 "cells": [
  {
   "cell_type": "markdown",
   "metadata": {},
   "source": [
    "# Prep input scaffolds for design"
   ]
  },
  {
   "cell_type": "markdown",
   "metadata": {},
   "source": [
    "### Boilerplate"
   ]
  },
  {
   "cell_type": "code",
   "execution_count": 1,
   "metadata": {},
   "outputs": [
    {
     "name": "stdout",
     "output_type": "stream",
     "text": [
      "/mnt/home/pleung/projects/bistable_bundle/r4/helix_binders\n",
      "dig27\n"
     ]
    }
   ],
   "source": [
    "%load_ext lab_black\n",
    "# python internal\n",
    "import collections\n",
    "import copy\n",
    "import gc\n",
    "from glob import glob\n",
    "import h5py\n",
    "import itertools\n",
    "import os\n",
    "import random\n",
    "import re\n",
    "import socket\n",
    "import shutil\n",
    "import subprocess\n",
    "import sys\n",
    "\n",
    "# conda/pip\n",
    "import dask\n",
    "import graphviz\n",
    "import matplotlib.pyplot as plt\n",
    "import pandas as pd\n",
    "import numpy as np\n",
    "import scipy\n",
    "import seaborn as sns\n",
    "from tqdm import tqdm\n",
    "\n",
    "# special packages on the DIGS\n",
    "import py3Dmol\n",
    "import pymol\n",
    "import pyrosetta\n",
    "\n",
    "# notebook magic\n",
    "%matplotlib inline\n",
    "%load_ext autoreload\n",
    "%autoreload 2\n",
    "\n",
    "print(os.getcwd())\n",
    "print(socket.gethostname())"
   ]
  },
  {
   "cell_type": "markdown",
   "metadata": {},
   "source": [
    "### Collect various scaffolds\n",
    "Rename as neccessary and put into silent with parent scaffold class\n",
    "1. dhrsgoodnocys: TJ's \"good\" DHRs without cysteine\n",
    "2. dhrs_no_cys: TJ's DHRs I redesigned to remove cysteine\n",
    "3. thrs: TH's ultra straight 3 helix DHRs\n",
    "4. dhrs_tim: TH's ultra straight 2 helix DHRs\n",
    "5. harley: xtal relaxed dhrs of all of the above, as well as kejia and hua's peptide binders"
   ]
  },
  {
   "cell_type": "code",
   "execution_count": 2,
   "metadata": {},
   "outputs": [
    {
     "name": "stdout",
     "output_type": "stream",
     "text": [
      "PyRosetta-4 2021 [Rosetta PyRosetta4.conda.linux.cxx11thread.serialization.CentOS.python38.Release 2021.12+release.ed6a5560506cfd327d4a6a3e2c9b0c9f6f4a6535 2021-03-26T16:09:25] retrieved from: http://www.pyrosetta.org\n",
      "(C) Copyright Rosetta Commons Member Institutions. Created in JHU by Sergey Lyskov and PyRosetta Team.\n"
     ]
    }
   ],
   "source": [
    "pyrosetta.init(\"-mute all\")"
   ]
  },
  {
   "cell_type": "markdown",
   "metadata": {},
   "source": [
    "### dhrsgoodnocys"
   ]
  },
  {
   "cell_type": "code",
   "execution_count": 3,
   "metadata": {},
   "outputs": [
    {
     "name": "stderr",
     "output_type": "stream",
     "text": [
      "100%|██████████| 18/18 [00:19<00:00,  1.08s/it]\n"
     ]
    },
    {
     "name": "stdout",
     "output_type": "stream",
     "text": [
      "\n",
      "    in_path: /mnt/home/pleung/projects/bistable_bundle/r4/helix_binders/00_inputs/dhrsgoodnocys\n",
      "    out_path: /mnt/home/pleung/projects/bistable_bundle/r4/helix_binders/00_silents\n",
      "    packed 17 poses\n"
     ]
    }
   ],
   "source": [
    "def silent_no_cys(in_path: str, out_path: str, silent_name: str) -> str:\n",
    "    \"\"\"assumes pdb input\"\"\"\n",
    "    from glob import glob\n",
    "    import os\n",
    "    import pyrosetta.distributed.io as io\n",
    "    from tqdm import tqdm\n",
    "\n",
    "    pposes = []\n",
    "    count = 0\n",
    "    for pdb in tqdm(glob(os.path.join(in_path, \"*.pdb\"))):\n",
    "        pose = io.to_pose(io.pose_from_file(pdb))\n",
    "        pose.pdb_info().name(pdb.split(\".pdb\")[0].split(\"/\")[-1])\n",
    "        if \"C\" not in pose.sequence():\n",
    "            pposes.append(io.to_packed(pose))\n",
    "            count += 1\n",
    "        else:\n",
    "            pass\n",
    "    os.makedirs(out_path, exist_ok=True)\n",
    "    io.to_silent(pposes, os.path.join(out_path, silent_name))\n",
    "    msg = \"\"\"\n",
    "    in_path: {in_path}\n",
    "    out_path: {out_path}\n",
    "    packed {count} poses\"\"\".format(\n",
    "        in_path=in_path, out_path=out_path, count=count\n",
    "    )\n",
    "    return msg\n",
    "\n",
    "\n",
    "in_path = os.path.join(os.getcwd(), \"00_inputs/dhrsgoodnocys\")\n",
    "out_path = os.path.join(os.getcwd(), \"00_silents\")\n",
    "silent_name = \"dhrsgoodnocys.silent\"\n",
    "\n",
    "print(silent_no_cys(in_path, out_path, silent_name))"
   ]
  },
  {
   "cell_type": "markdown",
   "metadata": {},
   "source": [
    "### dhrs_nocys"
   ]
  },
  {
   "cell_type": "code",
   "execution_count": 4,
   "metadata": {},
   "outputs": [
    {
     "name": "stderr",
     "output_type": "stream",
     "text": [
      "100%|██████████| 8/8 [00:07<00:00,  1.02it/s]"
     ]
    },
    {
     "name": "stdout",
     "output_type": "stream",
     "text": [
      "\n",
      "    in_path: /mnt/home/pleung/projects/bistable_bundle/r4/helix_binders/00_inputs/dhrs_nocys\n",
      "    out_path: /mnt/home/pleung/projects/bistable_bundle/r4/helix_binders/00_silents\n",
      "    packed 8 poses\n"
     ]
    },
    {
     "name": "stderr",
     "output_type": "stream",
     "text": [
      "\n"
     ]
    }
   ],
   "source": [
    "in_path = os.path.join(os.getcwd(), \"00_inputs/dhrs_nocys\")\n",
    "out_path = os.path.join(os.getcwd(), \"00_silents\")\n",
    "silent_name = \"dhrs_nocys.silent\"\n",
    "\n",
    "for file in glob(os.path.join(in_path, \"*.pdb\")):\n",
    "    os.rename(file, file.replace(\"0001_0001\", \"nocys\", 1))\n",
    "\n",
    "print(silent_no_cys(in_path, out_path, silent_name))"
   ]
  },
  {
   "cell_type": "markdown",
   "metadata": {},
   "source": [
    "### thrs"
   ]
  },
  {
   "cell_type": "code",
   "execution_count": 5,
   "metadata": {},
   "outputs": [
    {
     "name": "stderr",
     "output_type": "stream",
     "text": [
      "100%|██████████| 11/11 [00:18<00:00,  1.73s/it]\n"
     ]
    },
    {
     "name": "stdout",
     "output_type": "stream",
     "text": [
      "\n",
      "    in_path: /mnt/home/pleung/projects/bistable_bundle/r4/helix_binders/00_inputs/thrs\n",
      "    out_path: /mnt/home/pleung/projects/bistable_bundle/r4/helix_binders/00_silents\n",
      "    packed 11 poses\n"
     ]
    }
   ],
   "source": [
    "in_path = os.path.join(os.getcwd(), \"00_inputs/thrs\")\n",
    "out_path = os.path.join(os.getcwd(), \"00_silents\")\n",
    "silent_name = \"thrs.silent\"\n",
    "\n",
    "print(silent_no_cys(in_path, out_path, silent_name))"
   ]
  },
  {
   "cell_type": "markdown",
   "metadata": {},
   "source": [
    "### th_dhrs"
   ]
  },
  {
   "cell_type": "code",
   "execution_count": 6,
   "metadata": {},
   "outputs": [
    {
     "name": "stderr",
     "output_type": "stream",
     "text": [
      "100%|██████████| 9/9 [00:14<00:00,  1.57s/it]"
     ]
    },
    {
     "name": "stdout",
     "output_type": "stream",
     "text": [
      "\n",
      "    in_path: /mnt/home/pleung/projects/bistable_bundle/r4/helix_binders/00_inputs/th_dhrs\n",
      "    out_path: /mnt/home/pleung/projects/bistable_bundle/r4/helix_binders/00_silents\n",
      "    packed 9 poses\n"
     ]
    },
    {
     "name": "stderr",
     "output_type": "stream",
     "text": [
      "\n"
     ]
    }
   ],
   "source": [
    "in_path = os.path.join(os.getcwd(), \"00_inputs/th_dhrs\")\n",
    "out_path = os.path.join(os.getcwd(), \"00_silents\")\n",
    "silent_name = \"th_dhrs.silent\"\n",
    "\n",
    "print(silent_no_cys(in_path, out_path, silent_name))"
   ]
  },
  {
   "cell_type": "markdown",
   "metadata": {},
   "source": [
    "### harley"
   ]
  },
  {
   "cell_type": "code",
   "execution_count": 7,
   "metadata": {
    "scrolled": true
   },
   "outputs": [
    {
     "name": "stderr",
     "output_type": "stream",
     "text": [
      "100%|██████████| 17/17 [00:17<00:00,  1.03s/it]"
     ]
    },
    {
     "name": "stdout",
     "output_type": "stream",
     "text": [
      "\n",
      "    in_path: /mnt/home/pleung/projects/bistable_bundle/r4/helix_binders/00_inputs/harley\n",
      "    out_path: /mnt/home/pleung/projects/bistable_bundle/r4/helix_binders/00_silents\n",
      "    packed 17 poses\n"
     ]
    },
    {
     "name": "stderr",
     "output_type": "stream",
     "text": [
      "\n"
     ]
    }
   ],
   "source": [
    "in_path = os.path.join(os.getcwd(), \"00_inputs/harley\")\n",
    "out_path = os.path.join(os.getcwd(), \"00_silents\")\n",
    "silent_name = \"harley.silent\"\n",
    "\n",
    "print(silent_no_cys(in_path, out_path, silent_name))"
   ]
  },
  {
   "cell_type": "code",
   "execution_count": 8,
   "metadata": {},
   "outputs": [
    {
     "name": "stderr",
     "output_type": "stream",
     "text": [
      "100%|██████████| 2/2 [00:05<00:00,  2.61s/it]"
     ]
    },
    {
     "name": "stdout",
     "output_type": "stream",
     "text": [
      "\n",
      "    in_path: /mnt/home/pleung/projects/bistable_bundle/r4/helix_binders/00_inputs/harley_THR\n",
      "    out_path: /mnt/home/pleung/projects/bistable_bundle/r4/helix_binders/00_silents\n",
      "    packed 2 poses\n"
     ]
    },
    {
     "name": "stderr",
     "output_type": "stream",
     "text": [
      "\n"
     ]
    }
   ],
   "source": [
    "in_path = os.path.join(os.getcwd(), \"00_inputs/harley_THR\")\n",
    "out_path = os.path.join(os.getcwd(), \"00_silents\")\n",
    "silent_name = \"harley_thrs.silent\"\n",
    "\n",
    "print(silent_no_cys(in_path, out_path, silent_name))"
   ]
  },
  {
   "cell_type": "code",
   "execution_count": 9,
   "metadata": {},
   "outputs": [
    {
     "name": "stdout",
     "output_type": "stream",
     "text": [
      "CPU times: user 674 µs, sys: 24 ms, total: 24.7 ms\n",
      "Wall time: 194 ms\n"
     ]
    }
   ],
   "source": [
    "%%time\n",
    "!mkdir -p figs"
   ]
  }
 ],
 "metadata": {
  "kernelspec": {
   "display_name": "phil (3.8.2)",
   "language": "python",
   "name": "phil"
  },
  "language_info": {
   "codemirror_mode": {
    "name": "ipython",
    "version": 3
   },
   "file_extension": ".py",
   "mimetype": "text/x-python",
   "name": "python",
   "nbconvert_exporter": "python",
   "pygments_lexer": "ipython3",
   "version": "3.8.8"
  }
 },
 "nbformat": 4,
 "nbformat_minor": 4
}
